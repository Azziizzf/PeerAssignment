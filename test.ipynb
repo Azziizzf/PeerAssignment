{
 "cells": [
  {
   "cell_type": "markdown",
   "id": "e01e9b44-d734-46e3-8232-0da2af6b0b79",
   "metadata": {
    "tags": []
   },
   "source": [
    "# Data Science tools and Ecosystem"
   ]
  },
  {
   "cell_type": "markdown",
   "id": "278220ac-7e07-47c0-93e9-901315f417dc",
   "metadata": {},
   "source": [
    "In this notebook, Data Science Tools and Ecosystem are summarized."
   ]
  },
  {
   "cell_type": "markdown",
   "id": "05e8e8c0-8d8d-49a5-8338-0ad040ada9ce",
   "metadata": {},
   "source": [
    "**Objectives:**\n",
    "- Java\n",
    "- Julia\n",
    "- R\n",
    "- Python\n",
    "- SQL"
   ]
  },
  {
   "cell_type": "markdown",
   "id": "18a9c9e3-7eff-4e16-be5d-7ab14947b10e",
   "metadata": {},
   "source": [
    "Some of the popular languages that Data Scientists use are:\n",
    "1. Python\n",
    "2. R\n",
    "3. SQL"
   ]
  },
  {
   "cell_type": "markdown",
   "id": "58c54b27-022c-4ae8-93be-0ddfdd0f9217",
   "metadata": {},
   "source": [
    "Some of the commonly used libraries used by Data Scientists include:\n",
    "1. Panda\n",
    "2. Numpy\n",
    "3. Scikit\n",
    "4."
   ]
  },
  {
   "cell_type": "markdown",
   "id": "cf9ee5db-98ba-4816-b6fa-7aad6be9ceb9",
   "metadata": {},
   "source": [
    "|Data Science Tools|\n",
    "|------------------|\n",
    "|Jupyter Notebook  |\n",
    "| RStudio          |\n",
    "| Google Colab     |"
   ]
  },
  {
   "cell_type": "markdown",
   "id": "3a8c27fb-dbe4-4044-a6bd-726299eb07ce",
   "metadata": {},
   "source": [
    "### Below are a few examples of evaluating arithmetic expressions in Python\n"
   ]
  },
  {
   "cell_type": "code",
   "execution_count": 3,
   "id": "11d80a88-358b-4724-bbe7-9bec52d88f46",
   "metadata": {
    "tags": []
   },
   "outputs": [
    {
     "data": {
      "text/plain": [
       "17"
      ]
     },
     "execution_count": 3,
     "metadata": {},
     "output_type": "execute_result"
    }
   ],
   "source": [
    "# This a simple arithmetic expression to mutiply then add integers\n",
    "(3*4)+5"
   ]
  },
  {
   "cell_type": "code",
   "execution_count": 4,
   "id": "d388e4f9-a0c7-4243-916e-8d323daa2ca2",
   "metadata": {
    "tags": []
   },
   "outputs": [
    {
     "data": {
      "text/plain": [
       "3.3333333333333335"
      ]
     },
     "execution_count": 4,
     "metadata": {},
     "output_type": "execute_result"
    }
   ],
   "source": [
    "# This will convert 200 minutes to hours by dividing by 60\n",
    "200/60"
   ]
  },
  {
   "cell_type": "markdown",
   "id": "3483a3ad-da66-47f7-a7f5-6c7f8d959335",
   "metadata": {
    "tags": []
   },
   "source": [
    "## Author\n",
    "   Abdalaziz Farrag"
   ]
  }
 ],
 "metadata": {
  "kernelspec": {
   "display_name": "Python",
   "language": "python",
   "name": "conda-env-python-py"
  },
  "language_info": {
   "codemirror_mode": {
    "name": "ipython",
    "version": 3
   },
   "file_extension": ".py",
   "mimetype": "text/x-python",
   "name": "python",
   "nbconvert_exporter": "python",
   "pygments_lexer": "ipython3",
   "version": "3.7.12"
  }
 },
 "nbformat": 4,
 "nbformat_minor": 5
}
